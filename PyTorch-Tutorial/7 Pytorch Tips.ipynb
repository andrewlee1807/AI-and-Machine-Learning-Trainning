{
 "cells": [
  {
   "cell_type": "code",
   "id": "initial_id",
   "metadata": {
    "collapsed": true,
    "ExecuteTime": {
     "end_time": "2024-05-07T06:23:46.906463Z",
     "start_time": "2024-05-07T06:23:46.900464Z"
    }
   },
   "source": [
    "import torch\n",
    "from torch import nn\n",
    "\n",
    "torch.__version__"
   ],
   "outputs": [
    {
     "data": {
      "text/plain": [
       "'2.3.0'"
      ]
     },
     "execution_count": 6,
     "metadata": {},
     "output_type": "execute_result"
    }
   ],
   "execution_count": 6
  },
  {
   "metadata": {},
   "cell_type": "markdown",
   "source": "# 1. Create the Tensor directly to Device ",
   "id": "1978b23736815ea9"
  },
  {
   "metadata": {
    "ExecuteTime": {
     "end_time": "2024-05-07T06:20:38.892627Z",
     "start_time": "2024-05-07T06:20:38.692121Z"
    }
   },
   "cell_type": "code",
   "source": [
    "# Bad example\n",
    "for i in range(100):\n",
    "    tensor = torch.ones([100, 2])\n",
    "    tensor = tensor.cuda()"
   ],
   "id": "534669fbf159078f",
   "outputs": [],
   "execution_count": 2
  },
  {
   "metadata": {
    "ExecuteTime": {
     "end_time": "2024-05-07T06:20:39.835815Z",
     "start_time": "2024-05-07T06:20:39.825808Z"
    }
   },
   "cell_type": "code",
   "source": [
    "# Better Example\n",
    "for i in range(100):\n",
    "    tensor = torch.ones([100, 2], device=\"cuda:0\")"
   ],
   "id": "efd15e0f96197b6a",
   "outputs": [],
   "execution_count": 3
  },
  {
   "metadata": {},
   "cell_type": "markdown",
   "source": "# 2. Using 'Sequential' Layers when Possible",
   "id": "a134132950b039c7"
  },
  {
   "metadata": {
    "ExecuteTime": {
     "end_time": "2024-05-07T06:26:23.966079Z",
     "start_time": "2024-05-07T06:26:23.936580Z"
    }
   },
   "cell_type": "code",
   "source": [
    "# Bad example\n",
    "class ExampleModel(nn.Module):\n",
    "    def __init__(self, inp_shape, out_shape):\n",
    "        super().__init__()\n",
    "        self.inp = inp_shape\n",
    "        self.out = out_shape\n",
    "        hidden_size = 512\n",
    "\n",
    "        self.layer1 = nn.Linear(inp_shape, hidden_size)\n",
    "        self.ac = nn.ReLU()\n",
    "\n",
    "        self.layer2 = nn.Linear(hidden_size, out_shape)\n",
    "\n",
    "    def forward(self, x):\n",
    "        x = self.layer1(x)\n",
    "        x = self.ac(x)\n",
    "        x = self.layer2(x)\n",
    "\n",
    "        return x\n",
    "\n",
    "\n",
    "model = ExampleModel(3, 5)\n",
    "tensor = torch.ones([255, 3])\n",
    "model(tensor).shape"
   ],
   "id": "230d252d7e09ca6e",
   "outputs": [
    {
     "data": {
      "text/plain": [
       "torch.Size([255, 5])"
      ]
     },
     "execution_count": 9,
     "metadata": {},
     "output_type": "execute_result"
    }
   ],
   "execution_count": 9
  },
  {
   "metadata": {
    "ExecuteTime": {
     "end_time": "2024-05-07T06:28:23.941439Z",
     "start_time": "2024-05-07T06:28:23.919952Z"
    }
   },
   "cell_type": "code",
   "source": [
    "# Better example\n",
    "class ExampleModel(nn.Module):\n",
    "    def __init__(self, inp_shape, out_shape):\n",
    "        super().__init__()\n",
    "        self.inp = inp_shape\n",
    "        self.out = out_shape\n",
    "        hidden_size = 512\n",
    "\n",
    "        self.layer = nn.Sequential(\n",
    "            nn.Linear(inp_shape, hidden_size),\n",
    "            nn.ReLU(),\n",
    "            nn.Linear(hidden_size, out_shape)\n",
    "        )\n",
    "\n",
    "    def forward(self, x):\n",
    "        return self.layer(x)\n",
    "\n",
    "\n",
    "model = ExampleModel(3, 5)\n",
    "tensor = torch.ones([255, 3])\n",
    "model(tensor).shape"
   ],
   "id": "ba082123704d94b2",
   "outputs": [
    {
     "data": {
      "text/plain": [
       "torch.Size([255, 5])"
      ]
     },
     "execution_count": 11,
     "metadata": {},
     "output_type": "execute_result"
    }
   ],
   "execution_count": 11
  },
  {
   "metadata": {},
   "cell_type": "markdown",
   "source": "# 3. Dont use 'List'",
   "id": "fdadc5cd2b134218"
  },
  {
   "metadata": {
    "ExecuteTime": {
     "end_time": "2024-05-07T06:31:10.671117Z",
     "start_time": "2024-05-07T06:31:08.071449Z"
    }
   },
   "cell_type": "code",
   "source": [
    "# Bad example\n",
    "class ExampleModel(nn.Module):\n",
    "    def __init__(self, inp_shape, out_shape):\n",
    "        super().__init__()\n",
    "        self.inp = inp_shape\n",
    "        self.out = out_shape\n",
    "        hidden_size = 512\n",
    "\n",
    "        self.layer1 = nn.Linear(inp_shape, hidden_size)\n",
    "        self.ac = nn.ReLU()\n",
    "\n",
    "        self.layer_hidden = []\n",
    "        for i in range(5):\n",
    "            self.layer_hidden.append(nn.Linear(hidden_size, hidden_size))\n",
    "            self.layer_hidden.append(nn.ReLU())\n",
    "\n",
    "        self.layer2 = nn.Linear(hidden_size, out_shape)\n",
    "\n",
    "    def forward(self, x):\n",
    "        x = self.layer1(x)\n",
    "        x = self.ac(x)\n",
    "\n",
    "        for layer in self.layer_hidden:\n",
    "            x = layer(x)\n",
    "\n",
    "        x = self.layer2(x)\n",
    "\n",
    "        return x\n",
    "\n",
    "\n",
    "model = ExampleModel(3, 5).cuda(0)\n",
    "tensor = torch.ones([255, 3], device='cuda:0')\n",
    "model(tensor).shape"
   ],
   "id": "fde2525ee89b328c",
   "outputs": [
    {
     "ename": "RuntimeError",
     "evalue": "Expected all tensors to be on the same device, but found at least two devices, cpu and cuda:0! (when checking argument for argument mat1 in method wrapper_CUDA_addmm)",
     "output_type": "error",
     "traceback": [
      "\u001B[1;31m---------------------------------------------------------------------------\u001B[0m",
      "\u001B[1;31mRuntimeError\u001B[0m                              Traceback (most recent call last)",
      "Cell \u001B[1;32mIn[14], line 33\u001B[0m\n\u001B[0;32m     31\u001B[0m model \u001B[38;5;241m=\u001B[39m ExampleModel(\u001B[38;5;241m3\u001B[39m, \u001B[38;5;241m5\u001B[39m)\u001B[38;5;241m.\u001B[39mcuda(\u001B[38;5;241m0\u001B[39m)\n\u001B[0;32m     32\u001B[0m tensor \u001B[38;5;241m=\u001B[39m torch\u001B[38;5;241m.\u001B[39mones([\u001B[38;5;241m255\u001B[39m, \u001B[38;5;241m3\u001B[39m], device\u001B[38;5;241m=\u001B[39m\u001B[38;5;124m'\u001B[39m\u001B[38;5;124mcuda:0\u001B[39m\u001B[38;5;124m'\u001B[39m)\n\u001B[1;32m---> 33\u001B[0m \u001B[43mmodel\u001B[49m\u001B[43m(\u001B[49m\u001B[43mtensor\u001B[49m\u001B[43m)\u001B[49m\u001B[38;5;241m.\u001B[39mshape\n",
      "File \u001B[1;32m~\\anaconda3\\envs\\AI\\lib\\site-packages\\torch\\nn\\modules\\module.py:1532\u001B[0m, in \u001B[0;36mModule._wrapped_call_impl\u001B[1;34m(self, *args, **kwargs)\u001B[0m\n\u001B[0;32m   1530\u001B[0m     \u001B[38;5;28;01mreturn\u001B[39;00m \u001B[38;5;28mself\u001B[39m\u001B[38;5;241m.\u001B[39m_compiled_call_impl(\u001B[38;5;241m*\u001B[39margs, \u001B[38;5;241m*\u001B[39m\u001B[38;5;241m*\u001B[39mkwargs)  \u001B[38;5;66;03m# type: ignore[misc]\u001B[39;00m\n\u001B[0;32m   1531\u001B[0m \u001B[38;5;28;01melse\u001B[39;00m:\n\u001B[1;32m-> 1532\u001B[0m     \u001B[38;5;28;01mreturn\u001B[39;00m \u001B[38;5;28;43mself\u001B[39;49m\u001B[38;5;241;43m.\u001B[39;49m\u001B[43m_call_impl\u001B[49m\u001B[43m(\u001B[49m\u001B[38;5;241;43m*\u001B[39;49m\u001B[43margs\u001B[49m\u001B[43m,\u001B[49m\u001B[43m \u001B[49m\u001B[38;5;241;43m*\u001B[39;49m\u001B[38;5;241;43m*\u001B[39;49m\u001B[43mkwargs\u001B[49m\u001B[43m)\u001B[49m\n",
      "File \u001B[1;32m~\\anaconda3\\envs\\AI\\lib\\site-packages\\torch\\nn\\modules\\module.py:1541\u001B[0m, in \u001B[0;36mModule._call_impl\u001B[1;34m(self, *args, **kwargs)\u001B[0m\n\u001B[0;32m   1536\u001B[0m \u001B[38;5;66;03m# If we don't have any hooks, we want to skip the rest of the logic in\u001B[39;00m\n\u001B[0;32m   1537\u001B[0m \u001B[38;5;66;03m# this function, and just call forward.\u001B[39;00m\n\u001B[0;32m   1538\u001B[0m \u001B[38;5;28;01mif\u001B[39;00m \u001B[38;5;129;01mnot\u001B[39;00m (\u001B[38;5;28mself\u001B[39m\u001B[38;5;241m.\u001B[39m_backward_hooks \u001B[38;5;129;01mor\u001B[39;00m \u001B[38;5;28mself\u001B[39m\u001B[38;5;241m.\u001B[39m_backward_pre_hooks \u001B[38;5;129;01mor\u001B[39;00m \u001B[38;5;28mself\u001B[39m\u001B[38;5;241m.\u001B[39m_forward_hooks \u001B[38;5;129;01mor\u001B[39;00m \u001B[38;5;28mself\u001B[39m\u001B[38;5;241m.\u001B[39m_forward_pre_hooks\n\u001B[0;32m   1539\u001B[0m         \u001B[38;5;129;01mor\u001B[39;00m _global_backward_pre_hooks \u001B[38;5;129;01mor\u001B[39;00m _global_backward_hooks\n\u001B[0;32m   1540\u001B[0m         \u001B[38;5;129;01mor\u001B[39;00m _global_forward_hooks \u001B[38;5;129;01mor\u001B[39;00m _global_forward_pre_hooks):\n\u001B[1;32m-> 1541\u001B[0m     \u001B[38;5;28;01mreturn\u001B[39;00m \u001B[43mforward_call\u001B[49m\u001B[43m(\u001B[49m\u001B[38;5;241;43m*\u001B[39;49m\u001B[43margs\u001B[49m\u001B[43m,\u001B[49m\u001B[43m \u001B[49m\u001B[38;5;241;43m*\u001B[39;49m\u001B[38;5;241;43m*\u001B[39;49m\u001B[43mkwargs\u001B[49m\u001B[43m)\u001B[49m\n\u001B[0;32m   1543\u001B[0m \u001B[38;5;28;01mtry\u001B[39;00m:\n\u001B[0;32m   1544\u001B[0m     result \u001B[38;5;241m=\u001B[39m \u001B[38;5;28;01mNone\u001B[39;00m\n",
      "Cell \u001B[1;32mIn[14], line 24\u001B[0m, in \u001B[0;36mExampleModel.forward\u001B[1;34m(self, x)\u001B[0m\n\u001B[0;32m     21\u001B[0m x \u001B[38;5;241m=\u001B[39m \u001B[38;5;28mself\u001B[39m\u001B[38;5;241m.\u001B[39mac(x)\n\u001B[0;32m     23\u001B[0m \u001B[38;5;28;01mfor\u001B[39;00m layer \u001B[38;5;129;01min\u001B[39;00m \u001B[38;5;28mself\u001B[39m\u001B[38;5;241m.\u001B[39mlayer_hidden:\n\u001B[1;32m---> 24\u001B[0m     x \u001B[38;5;241m=\u001B[39m \u001B[43mlayer\u001B[49m\u001B[43m(\u001B[49m\u001B[43mx\u001B[49m\u001B[43m)\u001B[49m\n\u001B[0;32m     26\u001B[0m x \u001B[38;5;241m=\u001B[39m \u001B[38;5;28mself\u001B[39m\u001B[38;5;241m.\u001B[39mlayer2(x)\n\u001B[0;32m     28\u001B[0m \u001B[38;5;28;01mreturn\u001B[39;00m x\n",
      "File \u001B[1;32m~\\anaconda3\\envs\\AI\\lib\\site-packages\\torch\\nn\\modules\\module.py:1532\u001B[0m, in \u001B[0;36mModule._wrapped_call_impl\u001B[1;34m(self, *args, **kwargs)\u001B[0m\n\u001B[0;32m   1530\u001B[0m     \u001B[38;5;28;01mreturn\u001B[39;00m \u001B[38;5;28mself\u001B[39m\u001B[38;5;241m.\u001B[39m_compiled_call_impl(\u001B[38;5;241m*\u001B[39margs, \u001B[38;5;241m*\u001B[39m\u001B[38;5;241m*\u001B[39mkwargs)  \u001B[38;5;66;03m# type: ignore[misc]\u001B[39;00m\n\u001B[0;32m   1531\u001B[0m \u001B[38;5;28;01melse\u001B[39;00m:\n\u001B[1;32m-> 1532\u001B[0m     \u001B[38;5;28;01mreturn\u001B[39;00m \u001B[38;5;28;43mself\u001B[39;49m\u001B[38;5;241;43m.\u001B[39;49m\u001B[43m_call_impl\u001B[49m\u001B[43m(\u001B[49m\u001B[38;5;241;43m*\u001B[39;49m\u001B[43margs\u001B[49m\u001B[43m,\u001B[49m\u001B[43m \u001B[49m\u001B[38;5;241;43m*\u001B[39;49m\u001B[38;5;241;43m*\u001B[39;49m\u001B[43mkwargs\u001B[49m\u001B[43m)\u001B[49m\n",
      "File \u001B[1;32m~\\anaconda3\\envs\\AI\\lib\\site-packages\\torch\\nn\\modules\\module.py:1541\u001B[0m, in \u001B[0;36mModule._call_impl\u001B[1;34m(self, *args, **kwargs)\u001B[0m\n\u001B[0;32m   1536\u001B[0m \u001B[38;5;66;03m# If we don't have any hooks, we want to skip the rest of the logic in\u001B[39;00m\n\u001B[0;32m   1537\u001B[0m \u001B[38;5;66;03m# this function, and just call forward.\u001B[39;00m\n\u001B[0;32m   1538\u001B[0m \u001B[38;5;28;01mif\u001B[39;00m \u001B[38;5;129;01mnot\u001B[39;00m (\u001B[38;5;28mself\u001B[39m\u001B[38;5;241m.\u001B[39m_backward_hooks \u001B[38;5;129;01mor\u001B[39;00m \u001B[38;5;28mself\u001B[39m\u001B[38;5;241m.\u001B[39m_backward_pre_hooks \u001B[38;5;129;01mor\u001B[39;00m \u001B[38;5;28mself\u001B[39m\u001B[38;5;241m.\u001B[39m_forward_hooks \u001B[38;5;129;01mor\u001B[39;00m \u001B[38;5;28mself\u001B[39m\u001B[38;5;241m.\u001B[39m_forward_pre_hooks\n\u001B[0;32m   1539\u001B[0m         \u001B[38;5;129;01mor\u001B[39;00m _global_backward_pre_hooks \u001B[38;5;129;01mor\u001B[39;00m _global_backward_hooks\n\u001B[0;32m   1540\u001B[0m         \u001B[38;5;129;01mor\u001B[39;00m _global_forward_hooks \u001B[38;5;129;01mor\u001B[39;00m _global_forward_pre_hooks):\n\u001B[1;32m-> 1541\u001B[0m     \u001B[38;5;28;01mreturn\u001B[39;00m \u001B[43mforward_call\u001B[49m\u001B[43m(\u001B[49m\u001B[38;5;241;43m*\u001B[39;49m\u001B[43margs\u001B[49m\u001B[43m,\u001B[49m\u001B[43m \u001B[49m\u001B[38;5;241;43m*\u001B[39;49m\u001B[38;5;241;43m*\u001B[39;49m\u001B[43mkwargs\u001B[49m\u001B[43m)\u001B[49m\n\u001B[0;32m   1543\u001B[0m \u001B[38;5;28;01mtry\u001B[39;00m:\n\u001B[0;32m   1544\u001B[0m     result \u001B[38;5;241m=\u001B[39m \u001B[38;5;28;01mNone\u001B[39;00m\n",
      "File \u001B[1;32m~\\anaconda3\\envs\\AI\\lib\\site-packages\\torch\\nn\\modules\\linear.py:116\u001B[0m, in \u001B[0;36mLinear.forward\u001B[1;34m(self, input)\u001B[0m\n\u001B[0;32m    115\u001B[0m \u001B[38;5;28;01mdef\u001B[39;00m \u001B[38;5;21mforward\u001B[39m(\u001B[38;5;28mself\u001B[39m, \u001B[38;5;28minput\u001B[39m: Tensor) \u001B[38;5;241m-\u001B[39m\u001B[38;5;241m>\u001B[39m Tensor:\n\u001B[1;32m--> 116\u001B[0m     \u001B[38;5;28;01mreturn\u001B[39;00m \u001B[43mF\u001B[49m\u001B[38;5;241;43m.\u001B[39;49m\u001B[43mlinear\u001B[49m\u001B[43m(\u001B[49m\u001B[38;5;28;43minput\u001B[39;49m\u001B[43m,\u001B[49m\u001B[43m \u001B[49m\u001B[38;5;28;43mself\u001B[39;49m\u001B[38;5;241;43m.\u001B[39;49m\u001B[43mweight\u001B[49m\u001B[43m,\u001B[49m\u001B[43m \u001B[49m\u001B[38;5;28;43mself\u001B[39;49m\u001B[38;5;241;43m.\u001B[39;49m\u001B[43mbias\u001B[49m\u001B[43m)\u001B[49m\n",
      "\u001B[1;31mRuntimeError\u001B[0m: Expected all tensors to be on the same device, but found at least two devices, cpu and cuda:0! (when checking argument for argument mat1 in method wrapper_CUDA_addmm)"
     ]
    }
   ],
   "execution_count": 14
  },
  {
   "metadata": {
    "ExecuteTime": {
     "end_time": "2024-05-07T06:35:23.379095Z",
     "start_time": "2024-05-07T06:35:23.343588Z"
    }
   },
   "cell_type": "code",
   "source": [
    "# Bad example\n",
    "class ExampleModel(nn.Module):\n",
    "    def __init__(self, inp_shape, out_shape):\n",
    "        super().__init__()\n",
    "        self.inp = inp_shape\n",
    "        self.out = out_shape\n",
    "        hidden_size = 512\n",
    "\n",
    "        layer1 = nn.Linear(inp_shape, hidden_size)\n",
    "        ac = nn.ReLU()\n",
    "\n",
    "        layer_hidden = []\n",
    "        for i in range(5):\n",
    "            layer_hidden.append(nn.Linear(hidden_size, hidden_size))\n",
    "            layer_hidden.append(nn.ReLU())\n",
    "\n",
    "        layer2 = nn.Linear(hidden_size, out_shape)\n",
    "\n",
    "        self.layer = nn.Sequential(\n",
    "            layer1, ac,\n",
    "            *layer_hidden,  # unpacking each layer\n",
    "            layer2\n",
    "        )\n",
    "\n",
    "    def forward(self, x):\n",
    "        return self.layer(x)\n",
    "\n",
    "\n",
    "model = ExampleModel(3, 5).cuda(0)\n",
    "tensor = torch.ones([5, 3], device='cuda:0')\n",
    "model(tensor).shape"
   ],
   "id": "4e2484961b0fb851",
   "outputs": [
    {
     "data": {
      "text/plain": [
       "torch.Size([5, 5])"
      ]
     },
     "execution_count": 18,
     "metadata": {},
     "output_type": "execute_result"
    }
   ],
   "execution_count": 18
  },
  {
   "metadata": {},
   "cell_type": "markdown",
   "source": "# 4. Using Distribution Module ",
   "id": "346e269b4bf72e55"
  },
  {
   "metadata": {
    "ExecuteTime": {
     "end_time": "2024-05-07T06:36:46.802787Z",
     "start_time": "2024-05-07T06:36:46.795278Z"
    }
   },
   "cell_type": "code",
   "source": [
    "output = model(tensor).detach().cpu()\n",
    "output"
   ],
   "id": "b0f758575b91f831",
   "outputs": [
    {
     "data": {
      "text/plain": [
       "tensor([[-0.0012, -0.0071, -0.0035, -0.0184,  0.0034],\n",
       "        [-0.0012, -0.0071, -0.0035, -0.0184,  0.0034],\n",
       "        [-0.0012, -0.0071, -0.0035, -0.0184,  0.0034],\n",
       "        [-0.0012, -0.0071, -0.0035, -0.0184,  0.0034],\n",
       "        [-0.0012, -0.0071, -0.0035, -0.0184,  0.0034]])"
      ]
     },
     "execution_count": 25,
     "metadata": {},
     "output_type": "execute_result"
    }
   ],
   "execution_count": 25
  },
  {
   "metadata": {
    "ExecuteTime": {
     "end_time": "2024-05-07T06:34:39.215883Z",
     "start_time": "2024-05-07T06:34:39.207850Z"
    }
   },
   "cell_type": "code",
   "source": [
    "from torch.distributions import Categorical\n",
    "from torch.distributions.kl import kl_divergence"
   ],
   "id": "83384f532fcccf72",
   "outputs": [],
   "execution_count": 16
  },
  {
   "metadata": {
    "ExecuteTime": {
     "end_time": "2024-05-07T06:37:03.570803Z",
     "start_time": "2024-05-07T06:37:03.565303Z"
    }
   },
   "cell_type": "code",
   "source": [
    "dist = Categorical(logits = output)\n",
    "dist"
   ],
   "id": "30468301781fca8a",
   "outputs": [
    {
     "data": {
      "text/plain": [
       "Categorical(logits: torch.Size([5, 5]))"
      ]
     },
     "execution_count": 28,
     "metadata": {},
     "output_type": "execute_result"
    }
   ],
   "execution_count": 28
  },
  {
   "metadata": {
    "ExecuteTime": {
     "end_time": "2024-05-07T06:37:17.348796Z",
     "start_time": "2024-05-07T06:37:17.328796Z"
    }
   },
   "cell_type": "code",
   "source": "dist.probs",
   "id": "e84d15f8b4dc09d1",
   "outputs": [
    {
     "data": {
      "text/plain": [
       "tensor([[0.2008, 0.1996, 0.2004, 0.1974, 0.2018],\n",
       "        [0.2008, 0.1996, 0.2004, 0.1974, 0.2018],\n",
       "        [0.2008, 0.1996, 0.2004, 0.1974, 0.2018],\n",
       "        [0.2008, 0.1996, 0.2004, 0.1974, 0.2018],\n",
       "        [0.2008, 0.1996, 0.2004, 0.1974, 0.2018]])"
      ]
     },
     "execution_count": 29,
     "metadata": {},
     "output_type": "execute_result"
    }
   ],
   "execution_count": 29
  },
  {
   "metadata": {
    "ExecuteTime": {
     "end_time": "2024-05-07T06:37:43.674660Z",
     "start_time": "2024-05-07T06:37:43.659159Z"
    }
   },
   "cell_type": "code",
   "source": "dist.sample()",
   "id": "38c1fc380931fcfd",
   "outputs": [
    {
     "data": {
      "text/plain": [
       "tensor([1, 3, 0, 1, 3])"
      ]
     },
     "execution_count": 35,
     "metadata": {},
     "output_type": "execute_result"
    }
   ],
   "execution_count": 35
  },
  {
   "metadata": {
    "ExecuteTime": {
     "end_time": "2024-05-07T06:38:39.059681Z",
     "start_time": "2024-05-07T06:38:39.049148Z"
    }
   },
   "cell_type": "code",
   "source": [
    "dist_1 = Categorical(logits=output[0])\n",
    "dist_2 = Categorical(logits=output[1])\n",
    "\n",
    "kl_divergence(dist_1, dist_2)"
   ],
   "id": "427d3bb01467acff",
   "outputs": [
    {
     "data": {
      "text/plain": [
       "tensor(0.)"
      ]
     },
     "execution_count": 36,
     "metadata": {},
     "output_type": "execute_result"
    }
   ],
   "execution_count": 36
  },
  {
   "metadata": {},
   "cell_type": "markdown",
   "source": "# 5. Using 'detach()'",
   "id": "538783fdced931c0"
  },
  {
   "metadata": {
    "ExecuteTime": {
     "end_time": "2024-05-07T06:40:37.074020Z",
     "start_time": "2024-05-07T06:40:37.061012Z"
    }
   },
   "cell_type": "code",
   "source": [
    "# Setup \n",
    "model = ExampleModel(3, 2)\n",
    "data_batches = [torch.rand([5, 3]) for _ in range(5)]\n",
    "criterion = nn.MSELoss(reduce='mean')"
   ],
   "id": "f7a0ff4b77754678",
   "outputs": [
    {
     "name": "stderr",
     "output_type": "stream",
     "text": [
      "C:\\Users\\Andrew\\anaconda3\\envs\\AI\\lib\\site-packages\\torch\\nn\\_reduction.py:42: UserWarning: size_average and reduce args will be deprecated, please use reduction='mean' instead.\n",
      "  warnings.warn(warning.format(ret))\n"
     ]
    }
   ],
   "execution_count": 37
  },
  {
   "metadata": {
    "ExecuteTime": {
     "end_time": "2024-05-07T06:42:22.238544Z",
     "start_time": "2024-05-07T06:42:22.229046Z"
    }
   },
   "cell_type": "code",
   "source": [
    "#Bad example\n",
    "losses = []\n",
    "for batch in data_batches:\n",
    "    output = model(batch)\n",
    "    target = torch.rand([5, 2])\n",
    "    loss = criterion(output, target)\n",
    "    \n",
    "    losses.append(loss)\n",
    "\n",
    "print(losses)"
   ],
   "id": "8848746a0975538d",
   "outputs": [
    {
     "name": "stdout",
     "output_type": "stream",
     "text": [
      "[tensor(0.4546, grad_fn=<MseLossBackward0>), tensor(0.3607, grad_fn=<MseLossBackward0>), tensor(0.1973, grad_fn=<MseLossBackward0>), tensor(0.2186, grad_fn=<MseLossBackward0>), tensor(0.4076, grad_fn=<MseLossBackward0>)]\n"
     ]
    }
   ],
   "execution_count": 39
  },
  {
   "metadata": {
    "ExecuteTime": {
     "end_time": "2024-05-07T06:43:03.022811Z",
     "start_time": "2024-05-07T06:43:03.013253Z"
    }
   },
   "cell_type": "code",
   "source": [
    "#Better example\n",
    "losses = []\n",
    "for batch in data_batches:\n",
    "    output = model(batch)\n",
    "    target = torch.rand([5, 2])\n",
    "    loss = criterion(output, target).detach()\n",
    "    \n",
    "    losses.append(loss)\n",
    "\n",
    "print(losses)"
   ],
   "id": "e4242f4c649959d",
   "outputs": [
    {
     "name": "stdout",
     "output_type": "stream",
     "text": [
      "[tensor(0.4338), tensor(0.3132), tensor(0.6140), tensor(0.3455), tensor(0.1800)]\n"
     ]
    }
   ],
   "execution_count": 41
  },
  {
   "metadata": {},
   "cell_type": "markdown",
   "source": "# 6. Trick to Delete a Model from GPU",
   "id": "d60ecf97ae666f30"
  },
  {
   "metadata": {
    "ExecuteTime": {
     "end_time": "2024-05-07T06:44:07.558480Z",
     "start_time": "2024-05-07T06:44:07.487480Z"
    }
   },
   "cell_type": "code",
   "source": [
    "import gc\n",
    "\n",
    "del model\n",
    "\n",
    "gc.collect()\n",
    "\n",
    "torch.cuda.empty_cache()"
   ],
   "id": "ee8472d2f9fb698e",
   "outputs": [],
   "execution_count": 42
  },
  {
   "metadata": {},
   "cell_type": "markdown",
   "source": "# 7. Call 'eval()' Before Testing ",
   "id": "a316613139e7d670"
  },
  {
   "metadata": {
    "ExecuteTime": {
     "end_time": "2024-05-07T06:45:31.321390Z",
     "start_time": "2024-05-07T06:45:31.309391Z"
    }
   },
   "cell_type": "code",
   "source": [
    "model = ExampleModel(3, 2)\n",
    "# Training model \n",
    "model.train()\n",
    "\n",
    "# Testing model\n",
    "model.eval()\n",
    "\n",
    "# => Turn off the Drop, Batch Norm, .... "
   ],
   "id": "e5d701f780f0c6f0",
   "outputs": [
    {
     "data": {
      "text/plain": [
       "ExampleModel(\n",
       "  (layer): Sequential(\n",
       "    (0): Linear(in_features=3, out_features=512, bias=True)\n",
       "    (1): ReLU()\n",
       "    (2): Linear(in_features=512, out_features=512, bias=True)\n",
       "    (3): ReLU()\n",
       "    (4): Linear(in_features=512, out_features=512, bias=True)\n",
       "    (5): ReLU()\n",
       "    (6): Linear(in_features=512, out_features=512, bias=True)\n",
       "    (7): ReLU()\n",
       "    (8): Linear(in_features=512, out_features=512, bias=True)\n",
       "    (9): ReLU()\n",
       "    (10): Linear(in_features=512, out_features=512, bias=True)\n",
       "    (11): ReLU()\n",
       "    (12): Linear(in_features=512, out_features=2, bias=True)\n",
       "  )\n",
       ")"
      ]
     },
     "execution_count": 43,
     "metadata": {},
     "output_type": "execute_result"
    }
   ],
   "execution_count": 43
  },
  {
   "metadata": {},
   "cell_type": "code",
   "outputs": [],
   "execution_count": null,
   "source": "",
   "id": "64d6201a8bc895e8"
  }
 ],
 "metadata": {
  "kernelspec": {
   "display_name": "Python 3",
   "language": "python",
   "name": "python3"
  },
  "language_info": {
   "codemirror_mode": {
    "name": "ipython",
    "version": 2
   },
   "file_extension": ".py",
   "mimetype": "text/x-python",
   "name": "python",
   "nbconvert_exporter": "python",
   "pygments_lexer": "ipython2",
   "version": "2.7.6"
  }
 },
 "nbformat": 4,
 "nbformat_minor": 5
}
